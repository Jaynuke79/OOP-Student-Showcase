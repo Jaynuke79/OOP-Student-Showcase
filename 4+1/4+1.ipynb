{
 "cells": [
  {
   "cell_type": "code",
   "execution_count": 1,
   "id": "77132d2a",
   "metadata": {},
   "outputs": [
    {
     "data": {
      "text/plain": [
       "['/home/jjalonzo/GitRepos/SkuClasses/OOP-Student-Showcase/4+1/imgs/logical_view.puml',\n",
       " '/home/jjalonzo/GitRepos/SkuClasses/OOP-Student-Showcase/4+1/imgs/development_view.puml',\n",
       " '/home/jjalonzo/GitRepos/SkuClasses/OOP-Student-Showcase/4+1/imgs/process_view.puml',\n",
       " '/home/jjalonzo/GitRepos/SkuClasses/OOP-Student-Showcase/4+1/imgs/physical_view.puml',\n",
       " '/home/jjalonzo/GitRepos/SkuClasses/OOP-Student-Showcase/4+1/imgs/scenario_view.puml']"
      ]
     },
     "execution_count": 1,
     "metadata": {},
     "output_type": "execute_result"
    }
   ],
   "source": [
    "# Define individual PlantUML segments for the 5 views\n",
    "\n",
    "puml_views = {\n",
    "    \"logical_view.puml\": \"\"\"\n",
    "@startuml\n",
    "title Logical View - Class Relationships\n",
    "\n",
    "abstract class ChessPiece {\n",
    "  + get_name()\n",
    "  + get_color()\n",
    "  + get_valid_moves()\n",
    "  + freeze()\n",
    "  + is_frozen()\n",
    "  + get_move_directions()\n",
    "  + get_max_steps()\n",
    "}\n",
    "\n",
    "class Pawn\n",
    "class Queen\n",
    "class King\n",
    "class Bishop\n",
    "class Knight\n",
    "class Rook\n",
    "\n",
    "ChessPiece <|-- Pawn\n",
    "ChessPiece <|-- Queen\n",
    "ChessPiece <|-- King\n",
    "ChessPiece <|-- Bishop\n",
    "ChessPiece <|-- Knight\n",
    "ChessPiece <|-- Rook\n",
    "\n",
    "class BoardPiece {\n",
    "  - _label\n",
    "  - _color\n",
    "  - _surprise : RandomEvent\n",
    "  - _piece_in_place\n",
    "}\n",
    "\n",
    "abstract class RandomEvent {\n",
    "  + apply(piece)\n",
    "}\n",
    "\n",
    "class FreezePieceEvent {\n",
    "  + apply(piece)\n",
    "}\n",
    "\n",
    "class PromoteToQueenEvent {\n",
    "  + apply(piece, pieces)\n",
    "}\n",
    "\n",
    "RandomEvent <|-- FreezePieceEvent\n",
    "RandomEvent <|-- PromoteToQueenEvent\n",
    "BoardPiece --> RandomEvent : surprise\n",
    "@enduml\n",
    "\"\"\",\n",
    "\n",
    "    \"development_view.puml\": \"\"\"\n",
    "@startuml\n",
    "title Development View - Module Dependencies\n",
    "\n",
    "package \"Module Structure\" {\n",
    "  [chess_piece.py]\n",
    "  [base_random_event.py]\n",
    "  [freeze_piece.py]\n",
    "  [promote_to_queen.py]\n",
    "  [board_piece.py]\n",
    "}\n",
    "\n",
    "[chess_piece.py] --> [base_random_event.py]\n",
    "[freeze_piece.py] --> [base_random_event.py]\n",
    "[promote_to_queen.py] --> [base_random_event.py]\n",
    "[freeze_piece.py] --> [chess_piece.py]\n",
    "[promote_to_queen.py] --> [chess_piece.py]\n",
    "[board_piece.py] --> [base_random_event.py]\n",
    "@enduml\n",
    "\"\"\",\n",
    "\n",
    "    \"process_view.puml\": \"\"\"\n",
    "@startuml\n",
    "title Process View - Runtime Behavior\n",
    "\n",
    "actor Player\n",
    "participant GUI\n",
    "participant GameEngine\n",
    "participant EventSystem\n",
    "\n",
    "Player -> GUI : Make Move\n",
    "GUI -> GameEngine : Validate and Apply Move\n",
    "GameEngine -> EventSystem : Check for Random Event\n",
    "EventSystem -> GUI : Update Board with Effect\n",
    "@enduml\n",
    "\"\"\",\n",
    "\n",
    "    \"physical_view.puml\": \"\"\"\n",
    "@startuml\n",
    "title Physical View - Deployment Architecture\n",
    "\n",
    "node \"Player PC\" {\n",
    "  [Python Runtime]\n",
    "  [Pygame GUI]\n",
    "  [Core Modules]\n",
    "}\n",
    "\n",
    "[Python Runtime] --> [Pygame GUI]\n",
    "[Python Runtime] --> [Core Modules]\n",
    "\n",
    "database \"AI Engine (Planned)\" as AI\n",
    "[Python Runtime] --> AI : Optional\n",
    "@enduml\n",
    "\"\"\",\n",
    "\n",
    "    \"scenario_view.puml\": \"\"\"\n",
    "@startuml\n",
    "title Scenario View (+1) - Use Case: Move Triggers Event\n",
    "\n",
    "actor User\n",
    "participant GUI\n",
    "participant GameEngine\n",
    "participant Board\n",
    "participant EventManager\n",
    "\n",
    "User -> GUI : Clicks piece and target square\n",
    "GUI -> GameEngine : send_move(source, target)\n",
    "GameEngine -> Board : move_piece()\n",
    "GameEngine -> EventManager : roll_event()\n",
    "EventManager -> Board : apply_effect()\n",
    "Board -> GUI : redraw()\n",
    "@enduml\n",
    "\"\"\"\n",
    "}\n",
    "\n",
    "from pathlib import Path\n",
    "\n",
    "# Write the separate .puml files\n",
    "output_paths = []\n",
    "for filename, content in puml_views.items():\n",
    "    path = Path(f\"/home/jjalonzo/GitRepos/SkuClasses/OOP-Student-Showcase/4+1/imgs/{filename}\")\n",
    "    path.write_text(content.strip())\n",
    "    output_paths.append(str(path))\n",
    "\n",
    "output_paths\n"
   ]
  },
  {
   "cell_type": "code",
   "execution_count": 2,
   "id": "3b57928d",
   "metadata": {},
   "outputs": [
    {
     "name": "stdout",
     "output_type": "stream",
     "text": [
      "Processed: /home/jjalonzo/GitRepos/SkuClasses/OOP-Student-Showcase/4+1/imgs/logical_view.puml\n",
      "Processed: /home/jjalonzo/GitRepos/SkuClasses/OOP-Student-Showcase/4+1/imgs/development_view.puml\n",
      "Processed: /home/jjalonzo/GitRepos/SkuClasses/OOP-Student-Showcase/4+1/imgs/process_view.puml\n",
      "Processed: /home/jjalonzo/GitRepos/SkuClasses/OOP-Student-Showcase/4+1/imgs/physical_view.puml\n",
      "Processed: /home/jjalonzo/GitRepos/SkuClasses/OOP-Student-Showcase/4+1/imgs/scenario_view.puml\n"
     ]
    }
   ],
   "source": [
    "import subprocess\n",
    "\n",
    "# Process each .puml file to generate diagrams\n",
    "for puml_file in output_paths:\n",
    "  try:\n",
    "    subprocess.run([\"plantuml\", puml_file], check=True)\n",
    "    print(f\"Processed: {puml_file}\")\n",
    "  except subprocess.CalledProcessError as e:\n",
    "    print(f\"Error processing {puml_file}: {e}\")"
   ]
  },
  {
   "cell_type": "code",
   "execution_count": 9,
   "id": "9d0dd428",
   "metadata": {},
   "outputs": [
    {
     "name": "stdout",
     "output_type": "stream",
     "text": [
      "Error generating combined image: Command '['plantuml', '/home/jjalonzo/GitRepos/SkuClasses/OOP-Student-Showcase/4+1/imgs/combined_views.puml']' returned non-zero exit status 100.\n"
     ]
    },
    {
     "name": "stderr",
     "output_type": "stream",
     "text": [
      "Warning: no image in /home/jjalonzo/GitRepos/SkuClasses/OOP-Student-Showcase/4+1/imgs/combined_views.puml\n",
      "No diagram found\n"
     ]
    }
   ],
   "source": [
    "from pathlib import Path\n",
    "\n",
    "# Combine all .puml files into one\n",
    "base_dir = Path(output_paths[0]).parent  # Extract the base directory from the first path in output_paths\n",
    "combined_puml_path = base_dir / \"combined_views.puml\"\n",
    "try:\n",
    "    with combined_puml_path.open(\"w\") as combined_file:\n",
    "        for puml_file in output_paths:\n",
    "            combined_file.write(f\"!include {puml_file}\\n\")\n",
    "except Exception as e:\n",
    "    print(f\"Error writing combined .puml file: {e}\")\n",
    "\n",
    "# Generate the combined image\n",
    "try:\n",
    "    subprocess.run([\"plantuml\", str(combined_puml_path)], check=True)\n",
    "    print(f\"Combined image generated: {combined_puml_path.with_suffix('.png')}\")\n",
    "except subprocess.CalledProcessError as e:\n",
    "    print(f\"Error generating combined image: {e}\")\n",
    "except FileNotFoundError:\n",
    "    print(\"Error: PlantUML is not installed or not in PATH.\")\n"
   ]
  },
  {
   "cell_type": "code",
   "execution_count": 7,
   "id": "09987af8",
   "metadata": {},
   "outputs": [
    {
     "name": "stdout",
     "output_type": "stream",
     "text": [
      "Current working directory: /home/jjalonzo/GitRepos/SkuClasses/OOP-Student-Showcase/4+1\n",
      "Environment: posix\n"
     ]
    }
   ],
   "source": [
    "import os\n",
    "print(\"Current working directory:\", os.getcwd())\n",
    "print(\"Environment:\", os.name)"
   ]
  },
  {
   "cell_type": "code",
   "execution_count": 11,
   "id": "4997ea18",
   "metadata": {},
   "outputs": [
    {
     "name": "stdout",
     "output_type": "stream",
     "text": [
      "Image generated: /home/jjalonzo/GitRepos/SkuClasses/OOP-Student-Showcase/4+1/imgs/output_images/combined_views.png\n"
     ]
    }
   ],
   "source": [
    "# Create a new folder for the output image\n",
    "output_folder = base_dir / \"output_images\"\n",
    "output_folder.mkdir(exist_ok=True)\n",
    "\n",
    "# Define the output path for the image\n",
    "output_image_path = output_folder / \"combined_views.png\"\n",
    "\n",
    "combined_puml_path = base_dir / \"combined_views.puml\"\n",
    "\n",
    "# Process the combined_views.puml file\n",
    "try:\n",
    "  subprocess.run([\"plantuml\", \"-o\", str(output_folder), str(combined_puml_path)], check=True)\n",
    "  print(f\"Image generated: {output_image_path}\")\n",
    "except subprocess.CalledProcessError as e:\n",
    "  print(f\"Error processing combined_views.puml: {e}\")\n",
    "except FileNotFoundError:\n",
    "  print(\"Error: PlantUML is not installed or not in PATH.\")"
   ]
  }
 ],
 "metadata": {
  "kernelspec": {
   "display_name": "Jotun",
   "language": "python",
   "name": "python3"
  },
  "language_info": {
   "codemirror_mode": {
    "name": "ipython",
    "version": 3
   },
   "file_extension": ".py",
   "mimetype": "text/x-python",
   "name": "python",
   "nbconvert_exporter": "python",
   "pygments_lexer": "ipython3",
   "version": "3.12.2"
  }
 },
 "nbformat": 4,
 "nbformat_minor": 5
}
